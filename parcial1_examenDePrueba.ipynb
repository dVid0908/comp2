{
 "cells": [
  {
   "cell_type": "markdown",
   "metadata": {},
   "source": [
    "# Parcial 1 - examen de prueba"
   ]
  },
  {
   "cell_type": "markdown",
   "metadata": {},
   "source": [
    "## **Preguntas teorico-prácticas** - sin apuntes, 50min, total 5 puntos\n",
    "\n",
    "1. **[1 puntos]** La serie de Taylor en $x=0$ de $\\ln(1-x)$ es:\n",
    "$$\n",
    "\\ln(1-x)=-\\sum^{\\infin}_{n=1} \\frac{x^n}{n}=-x-\\frac{x^2}{2}-\\frac{x^3}{3}-\\cdots\n",
    "$$\n",
    "Se pretende calcular el valor de $\\ln(0.98)$ usando el desarrollo anterior. El valor exacto es $\\ln(0.98) = -0.02020270731$. Obtén el número de términos de la serie que deben retenerse para conseguir un error relativo menor que $0.1\\%$"
   ]
  },
  {
   "cell_type": "code",
   "execution_count": null,
   "metadata": {},
   "outputs": [],
   "source": []
  },
  {
   "cell_type": "markdown",
   "metadata": {},
   "source": [
    "2. **[0.9 puntos]** Un determinado algoritmo requiere como inputs todos los valores de las alturas de $n$ personas. La altura de una determinada persona $i$ se denota como $x_i$, y el error relativo cometido en la medida de dicha altura es $\\epsilon_i$. Discute cómo evaluar el error en la entrada del algoritmo.\n"
   ]
  },
  {
   "cell_type": "code",
   "execution_count": null,
   "metadata": {},
   "outputs": [],
   "source": []
  },
  {
   "cell_type": "markdown",
   "metadata": {},
   "source": [
    "3. **[1 puntos]** Dados los siguientes desarrollos de Taylor:\n",
    "\n",
    "$$\n",
    "\n",
    "\\begin{aligned}\n",
    "f(x-h) &=f(x)-h f^{\\prime}(x)+\\frac{h^2}{2} f^{\\prime \\prime}(x)-\\frac{h^3}{6} f^{\\prime \\prime \\prime}(x)+\\cdots  & (a)\\\\\n",
    "f(x+h) &=f(x)+h f^{\\prime}(x)+\\frac{h^2}{2} f^{\\prime \\prime}(x)+\\frac{h^3}{6} f^{\\prime \\prime \\prime}(x)+\\cdots & (b)\\\\\n",
    "f(x+2 h) &=f(x)+2 h f^{\\prime}(x)+2 h^2 f^{\\prime \\prime}(x)+\\frac{4 h^3}{3} f^{\\prime \\prime \\prime}(x)+\\cdots & (c)\\\\\n",
    "f(x+3 h) &=f(x)+3 h f^{\\prime}(x)+\\frac{9 h^2}{2} f^{\\prime \\prime}(x)+\\frac{9 h^3}{2} f^{\\prime \\prime \\prime}(x)+\\cdots & (d)\n",
    "\\end{aligned}\n",
    "\n",
    "$$\n",
    "deduce la expresión que permite aproximar la derivada tercera $f'''(x)$ usando **diferencias finitas adelantadas de segundo orden**. "
   ]
  },
  {
   "cell_type": "code",
   "execution_count": null,
   "metadata": {},
   "outputs": [],
   "source": []
  },
  {
   "cell_type": "markdown",
   "metadata": {},
   "source": [
    "4. **[0.9 puntos]** Explica el fenómeno de la cancelación catastrófica. Pon un ejemplo (texto y/o código) para ilustrarlo."
   ]
  },
  {
   "cell_type": "code",
   "execution_count": null,
   "metadata": {},
   "outputs": [],
   "source": []
  },
  {
   "cell_type": "markdown",
   "metadata": {},
   "source": [
    "5. **[1.2 puntos]** El método de la bisección es un sencillo método numérico para encontrar raíces de ecuaciones $f(x) = 0$, con un determinado error objetivo, partiendo de un dos puntos del dominio de la función $a$ y $b$ donde se verifica que $f(a)\\cdot f(b) < 0$. La *Wikipedia* describe este algoritmo de la siguiente forma:\n",
    "* 1. Se verifica que $f(a)\\cdot f(b) < 0$\n",
    "* 2. Se calcula el punto medio $m$ del intervalo $[a,b]$ y se evalúa $f(m)$ si ese valor es menor que el error objetivo, ya hemos encontrado la raíz buscada.\n",
    "* 3. En caso de que no lo sea, verificamos si $f(m)$ tiene signo opuesto con $f(a)$ o con $f(b)$\n",
    "* 4. Se redefine el intervalo $[a,b]$ como $[a,m]$ o $[m,b]$: se usará el intervalo cuyos extremos tengan signos distintos.\n",
    "* 5. Con este nuevo intervalo, vuelve a repetirse el proceso desde el paso 2. Se continúa así \"encerrando\" sucesivamente la solución en un intervalo cada vez más pequeño, hasta alcanzar la precisión deseada.\n",
    "\n",
    "Implementa la siguiente función ```bisection(f: Callable, a: float, b:float, eps: float)``` para obtener las raíces de una determinada función ```f```, con extremos de los intervalos ```a``` y ```b```, y error objetivo ```eps```. Comprueba que el test sugerido devuelve una raíz en las proximidades de $1.5214$ en pocas iteraciones.\n",
    "\n",
    "<center>\n",
    "<div>\n",
    "<img src=\"images\\ch1\\bisection.gif\" width=\"340\"/>\n",
    "</div>\n",
    "</center>"
   ]
  },
  {
   "cell_type": "code",
   "execution_count": null,
   "metadata": {},
   "outputs": [],
   "source": [
    "from typing import Callable\n",
    "\n",
    "def bisection(f: Callable, a: float, b:float, eps: float) -> float:\n",
    "    raise NotImplementedError\n",
    "\n",
    "#TEST\n",
    "\n",
    "# f(x) = x^3 - x -2\n",
    "def fun_test(x: float) -> float:\n",
    "    return x**3 - x -2\n",
    "\n",
    "bisection(fun_test, 1, 2, 0.01)"
   ]
  },
  {
   "cell_type": "code",
   "execution_count": null,
   "metadata": {},
   "outputs": [],
   "source": []
  },
  {
   "cell_type": "markdown",
   "metadata": {},
   "source": [
    "# **Preguntas de desarrollo** - con apuntes, 50min, total 5 puntos"
   ]
  },
  {
   "cell_type": "markdown",
   "metadata": {},
   "source": [
    "Problema 1. **[2 puntos]** Sorprendentemente, sólo hay tres números que pueden escribirse como la suma de las potencias cuartas de sus dígitos:\n",
    "\n",
    "- $1634 = 1^4 + 6^4 + 3^4 + 4^4$\n",
    "\n",
    "- $8208 = 8^4 + 2^4 + 0^4 + 8^4$\n",
    "\n",
    "- $9474 = 9^4 + 4^4 + 7^4 + 4^4$\n",
    "\n",
    "(*Como $1 = 1^4$ no es una suma, no se incluye.*)\n",
    "\n",
    "La suma de estos números es 1634 + 8208 + 9474 = 19316.\n",
    "\n",
    " 1. (80%) Encuentra la suma de todos los números que se pueden escribir como la suma de potencias quintas de sus dígitos. Incluye comentarios, o un breve párrafo al inicio de tu código que explique el algoritmo empleado. En particular, justifica todas las decisiones que has tomado sobre los parámetros del problema.\n",
    " 2. (20%) Discute cómo generalizar el algoritmo anterior para encontrar \"la suma de números que se pueden escribir como suma de potnecias $n$-ésimas de sus dígitos\", para $n>5$. No se requiere implementación, solo una discusión sobre qué factores deberían considerarse."
   ]
  },
  {
   "cell_type": "code",
   "execution_count": null,
   "metadata": {},
   "outputs": [],
   "source": []
  },
  {
   "cell_type": "markdown",
   "metadata": {},
   "source": [
    "Problema 2. **[3 puntos]** Crea una estructura computacional que permita lidiar con representaciones de coma flotante aleatorias (es decir, con cualquier base y cualquier número de bits reservados para la mantisa y el exponente):\n",
    "\n",
    "$$x = \\left( -1 \\right)^{s} \\cdot m \\cdot \\beta^{(e - ses)}$$\n",
    "\n",
    "donde:\n",
    " - $s$ es el signo (se le reserva siempre un solo dígito).\n",
    " - $m$ es la mantisa.\n",
    " - $\\beta$ es la base.\n",
    " - $e$ es el exponente.\n",
    " - $ses$ es el sesgo. Será siempre la mitad del mayor exponente representable menos uno. \n",
    "\n",
    "Explica en comentarios las decisiones de diseño que vayas tomando. Tu código debe:\n",
    " 1. (25%) Incluir una clase ```FloatingPointRepr(s: str, beta: int, m: str, e:str)``` que almacene la información anterior (signo, base, mantisa, exponente y sesgo). Signo, mantisa, exponente y sesgo deben estar almacenados en la base elegida por el usuario, quien se supone que instanciará ```FloatingPointRepr``` con esos valores ya expresados en dicha base (asegúrate que así lo hace). Observa que ```s```, ```m``` y ```e``` son pasados a ```FloatingPointRepr``` como ```strings```, mientras que la base ```beta``` será un ```integer```.\n",
    " 2. (25%) Se debe levantar una excepción cuando se intente asignar valores imposibles (por ejemplo, una base negativa, una mantisa que contenga enteros mayores que la base, etc.). Analiza con detalle los valores que pueden tomar todos los parámetros.\n",
    " 3. (10%) Se debe incluir un método que convierta la mantisa a decimal, y otro que convierta el exponente a decimal.\n",
    " 4. (10%) Se debe incluir un método ```get_base10_val()``` que devuelva el número representado en base 10.\n",
    " 5. (15%) Se debe sobreescribir el operador ```+``` para que permita sumar dos números ```FloatingPointRepr```.\n",
    " 6. (15%) Se deben escribir algunos test cortos para comprobar que la estructura anterior funciona como debe. En particular, asegúrate que con los parámetros correspondientes a la precisión doble, obtienes los mismos valores máximo y mínimo representables. Ten en cuenta las particularidades de la representación en coma flotante para base 2, en particular, en referencia a la representación de la mantisa."
   ]
  },
  {
   "cell_type": "code",
   "execution_count": null,
   "metadata": {},
   "outputs": [],
   "source": []
  }
 ],
 "metadata": {
  "kernelspec": {
   "display_name": "Python 3.10.5 ('.venv': venv)",
   "language": "python",
   "name": "python3"
  },
  "language_info": {
   "codemirror_mode": {
    "name": "ipython",
    "version": 3
   },
   "file_extension": ".py",
   "mimetype": "text/x-python",
   "name": "python",
   "nbconvert_exporter": "python",
   "pygments_lexer": "ipython3",
   "version": "3.10.5"
  },
  "orig_nbformat": 4,
  "vscode": {
   "interpreter": {
    "hash": "1beef6bdf7cb3edc825034b485381c9781f3bd7bbda8256bc912318d884443a5"
   }
  }
 },
 "nbformat": 4,
 "nbformat_minor": 2
}
