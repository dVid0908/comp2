{
 "cells": [
  {
   "cell_type": "markdown",
   "metadata": {},
   "source": []
  },
  {
   "cell_type": "markdown",
   "metadata": {},
   "source": [
    "## Programación - Nivel básico"
   ]
  },
  {
   "cell_type": "markdown",
   "metadata": {},
   "source": [
    "1. Ordena el siguiente código para formar un programa que imprima por pantalla la MEDIA aritmética de los números 1, 165, 3231, 2, 155. Presta atención a fijar correctamente el nivel de indentación de cada bloque.\n",
    "\n",
    "<center>\n",
    "\n",
    "<img src=\"https://drive.upm.es/index.php/apps/files_sharing/ajax/publicpreview.php?x=1920&y=465&a=true&file=bloques_media.png&t=rBEvBeDsZGWQy8o&scalingup=0\" width=\"600\">\n",
    "\n",
    "</center>"
   ]
  },
  {
   "cell_type": "code",
   "execution_count": 7,
   "metadata": {},
   "outputs": [],
   "source": [
    "# Sol ej 1\n"
   ]
  },
  {
   "cell_type": "markdown",
   "metadata": {},
   "source": [
    "2. Ordena el siguiente código para formar un programa que haga lo siguiente: dados los números 43, 563, 6534, 12, 9452, 234, 3, imprime por pantalla el número de este conjunto que tenga EL MAYOR RESTO al dividirlo por 7. Presta atención a fijar correctamente el nivel de indentación de cada bloque.\n",
    "\n",
    "<center>\n",
    "\n",
    "<img src=\"https://drive.upm.es/index.php/apps/files_sharing/ajax/publicpreview.php?x=1920&y=465&a=true&file=bloques_resto.png&t=PuxPwMYUKNrkEQ5&scalingup=0\" width=\"600\">\n",
    "\n",
    "</center>\n"
   ]
  },
  {
   "cell_type": "code",
   "execution_count": 8,
   "metadata": {},
   "outputs": [],
   "source": [
    "# Sol ej 2\n"
   ]
  },
  {
   "cell_type": "markdown",
   "metadata": {},
   "source": [
    "3. Ordena el siguiente código para formar un programa que haga lo siguiente: dados los números 43, 563, 6534, 12, 9452, 264, 3, imprime por pantalla una lista con todos los que no sean múltiplos de 12 del conjunto anterior. Presta atención a fijar correctamente el nivel de indentación de cada bloque.\n",
    "\n",
    "<center>\n",
    "\n",
    "<img src=\"https://drive.upm.es/index.php/apps/files_sharing/ajax/publicpreview.php?x=1920&y=465&a=true&file=bloques_multiplo.png&t=8m3b0IqCfENGIfe&scalingup=0\" width=\"600\">\n",
    "\n",
    "</center>"
   ]
  },
  {
   "cell_type": "code",
   "execution_count": 9,
   "metadata": {},
   "outputs": [],
   "source": [
    "# Sol ej 3\n"
   ]
  },
  {
   "cell_type": "markdown",
   "metadata": {},
   "source": [
    "4. Un programador debe crear un programa que haga lo siguiente:\n",
    "\n",
    "> Encontrar el mayor número por debajo de $10^6$ que sea múltiplo de 13, 17 y 23.\n",
    "\n",
    "\n",
    "Tras meditar sobre el procedimiento a usar, decide que un algoritmo váldo sería:\n",
    " - Recorrer los números del 1 al $10^6$ en orden creciente (mediante un bucle).\n",
    " - Para cada uno de los números comprobar si es divisible por 13, 17 y 23 (utilizando la operación módulo).\n",
    " - Guardar este número como posible solución, tras comprobar que es mayor que el último número guardado.\n",
    " - Al terminar el bucle, imprimir por pantalla el resultado.\n",
    "Tras implementar este algoritmo en un programa, llega al siguiente código.\n",
    "\n",
    "```python\n",
    "> candidate = 0\n",
    "> for i in range(1, 1000000):\n",
    ">     if i % 13 = =0 and i % 17 == 0 and i % 23 == 0:\n",
    ">          candidate = i\n",
    "> print(f\"La solución es: {candidate}\")\n",
    "\n",
    "```\n",
    "\n",
    "Esta solución es muy ineficiente. \n",
    " - Analiza los puntos donde se está perdiendo eficiencia. \n",
    " - Teniendo en cuenta tu análisis del apartado anterior, diseña un nuevo algoritmo que resuelva el mismo problema de forma más eficiente.\n",
    " - Compara (aproximadamente) el número de operaciones que realiza el algoritmo que has creado tú en comparación con las que realiza el algoritmo propuesto arriba.\n",
    "    "
   ]
  },
  {
   "cell_type": "code",
   "execution_count": 10,
   "metadata": {},
   "outputs": [],
   "source": [
    "# Sol ej 4"
   ]
  },
  {
   "cell_type": "markdown",
   "metadata": {},
   "source": [
    "5. Indica si las siguientes afirmaciones son verdaderas o falsas:\n",
    "   - **a.** Los mejores lenguajes de programación son C++ y Java.\n",
    "   - **b.** En cualquier lenguaje de programación es necesario definir tipo de variable al momento de declararla.\n",
    "   - **c.** Las funciones definidas por el usuario se utilizan para encapsular bloques de código que se utilizan a menudo.\n",
    "   - **d.** Los pseudocódigos deben respetar reglas sintácticas rígidas.\n",
    "   - **e.** En casi cualquier lenguaje de programación, el símbolo igual ```=``` está reservado para la asignación (guardar una variable en la memoria del ordenador).\n",
    "   - **f.** Los condicionales sirven para repetir varias veces un determinado bloque de código.\n",
    "   - **g.** Un bucle ```while``` ejecuta un determinado bloque de código mientras se cumpla cierta condición.\n",
    "   - **h.** La sentencia ```continue``` (o equivalente) se utiliza para salir prematuramente de un bucle.\n",
    "   - **i.** La operación módulo (generalmente representada por el símbolo ```%```) devuelve el resto de dividir un número entre otro. Por ejemplo ```7%5``` (leído \"7 módulo 5\") sería igual a ```2```, el resto de dividir 7 entre 5.\n",
    "   - **j.** Si al compilar o interpretar nuestro código obtenemos un error, el compilador o intérprete nunca aporta información sobre la naturaleza del error. Debemos indagar en el código para encontrar por nuestra cuenta el fallo."
   ]
  },
  {
   "cell_type": "code",
   "execution_count": 11,
   "metadata": {},
   "outputs": [],
   "source": [
    "#Sol ej 5\n"
   ]
  },
  {
   "cell_type": "markdown",
   "metadata": {},
   "source": [
    "6. El siguiente código corresponde a una función ```remove_duplicates()``` que pide una lista de elementos como argumento y devuelve la misma lista pero sin elementos duplicados. Por ejemplo, si se le pasa como input ```[1, 1, 2, 3, 4, 4, 4, 7]```, devolvería ```[1, 2, 3, 4, 7]```.\n",
    "\n",
    "```python\n",
    "1:  > def remove_duplicates(input_list):\n",
    "2:  >     result = []\n",
    "3:  >     for input_val in input_list:\n",
    "4:  >         is_it_not_duplicated = True\n",
    "5:  >         for new_val in result:\n",
    "6:  >             if input_val == new_val:\n",
    "7:  >                 is_it_not_duplicated = False\n",
    "8:  >                 break\n",
    "9:  >         if is_it_not_duplicated:\n",
    "10: >             result.append(input_val)\n",
    "11: >     return result\n",
    "\n",
    "```\n",
    "\n",
    "Analiza y entiende el código. Después, responde a las siguientes preguntas:\n",
    "   - En la línea 2 se define una lista ```result``` vacía. ¿Qué se pretende con esto?\n",
    "   - El código contiene dos bucles anidados (uno dentro del otro): el bucle exterior itera la lista de entrada ```input_list``` (línea 3), y el exterior la lista resultado (línea 5). ¿Qué se pretende al anidar el segundo bucle dentro del primero? ¿Funcionaría el código si el segundo bucle se hace fuera del primero?\n",
    "   - En la línea 4 se define una variable booleana: ```is_it_not_duplicated```. Explica con qué propósito se introduce esta variable, y cómo evoluciona el valor que almacena a lo largo de la ejecución.\n",
    "   - La función anterior seguiría cumpliendo su propósito si se elimina la sentencia ```break``` (línea 8). Reflexiona sobre qué ocurre si se elimina, y por qué el programador ha decidido incluirla. "
   ]
  },
  {
   "cell_type": "code",
   "execution_count": 12,
   "metadata": {},
   "outputs": [],
   "source": [
    "#Sol ej 6"
   ]
  },
  {
   "cell_type": "markdown",
   "metadata": {},
   "source": [
    "7. Un determinado analista de bolsa apunta los días que las acciones de una determinada empresa suben, se quedan igual o bajan. Almacena esta información en una lista, escribiendo el signo ```\"+\"``` cuando las acciones suben, ```\"0\"``` cuando se quedan igual y ```\"-\"``` cuando bajan. Quiere disponer de una función ```ratio_rises``` que, dada la lista, le devuelva la proporción de días que las acciones suben (en tanto por uno). Por ejemplo, para el input ```[\"+\", \"-\", \"+\", \"+\", \"0\", \"+\", \"+\", \"+\"]```, dicha función debería devolver el valor ```0.75```. El siguiente código muestra la función anterior, pero hay algunas líneas que están en blanco. Selecciona la sentencia correcta entre las opciones disponibles.\n",
    "\n",
    "<center>\n",
    "\n",
    "<img src=\"https://drive.upm.es/index.php/apps/files_sharing/ajax/publicpreview.php?x=1920&y=465&a=true&file=bloques_analista.png&t=XvXLEcaW4D6QnO0&scalingup=0\" width=\"600\">\n",
    "\n",
    "</center>"
   ]
  },
  {
   "cell_type": "code",
   "execution_count": 13,
   "metadata": {},
   "outputs": [],
   "source": [
    "#Sol ej 7"
   ]
  },
  {
   "cell_type": "markdown",
   "metadata": {},
   "source": [
    "8. En un determinado programa, se definen las siguientes variables:\n",
    "\n",
    "```python\n",
    "> a = 1\n",
    "> b = True\n",
    "> c = \"2\"\n",
    "> d = [3, 1]\n",
    "```\n",
    "\n",
    " - Señala el tipo de variable que es cada una.\n",
    " - Más adelante en el mismo programa, se quiere ejecutar el siguiente bloque de código. Señala qué ocurrirá en cada línea. Solo hay tres opciones posibles: 1) ocurrirá un error, 2) se imprimirá por pantalla “True” o 3) se imprimirá por pantalla “False”.\n",
    "\n",
    "```python\n",
    "1: > print(a > 5)\n",
    "2: > print(not b)\n",
    "3: > print(a < c)\n",
    "4: > print(a in d)\n",
    "5: > print(a != c)\n",
    "6: > print(a <= d[0] and b) \n",
    "7: > print(d[0] == a or not False)\n",
    "8: > print(not b or True or d > a)\n",
    "9: > print(b == \"a < 5\")\n",
    "```"
   ]
  },
  {
   "cell_type": "code",
   "execution_count": 14,
   "metadata": {},
   "outputs": [],
   "source": [
    "#Sol ej 8"
   ]
  },
  {
   "cell_type": "markdown",
   "metadata": {},
   "source": [
    "# Programación - Nivel medio"
   ]
  },
  {
   "cell_type": "markdown",
   "metadata": {},
   "source": [
    "9. Indica si son verdaderas o falsas las siguientes afirmaciones:\n",
    " - En las versiones recientes de Pyhton, los elementos de un diccionario conservan el orden en el que fueron insertados.\n",
    " - Las tuplas presentan un comportamiento en memoria más eficiente que las listas\n",
    " - La asignación ```a = (1)``` crea una tupla de un solo elemento\n",
    " - Comprobar si un elemento esta incluido o no en un *set* es mucho más rápido que hacer lo mismo en una lista.\n",
    " - Los sets, al igual que las tuplas, son inmutables, no se les puede añadir elementos nuevos.\n",
    " - No se pueden utilizar sets como *keys* de diccionarios\n",
    " - Para añadir un elemento a una lista, se utiliza el método ```append()```, y para añadir un elemento a un *set* se utiliza el método ```add()```."
   ]
  },
  {
   "cell_type": "code",
   "execution_count": 15,
   "metadata": {},
   "outputs": [],
   "source": [
    "#Sol ej 9"
   ]
  },
  {
   "cell_type": "markdown",
   "metadata": {},
   "source": [
    "10.  Los dos siguientes fragmentos de código cuentan e imprimen por pantalla el número de elementos distintos en la lista ```[1, 1, 3, 4, 4, 9]```. Ambos funcionan (es más, ambos implementan el mismo algoritmo), pero el primero incurre en varios errores de estilo. Encuentra al menos siete diferencias y enuméralas (la primera diferencia ya está dada):\n",
    "\n",
    "```python\n",
    "> # Primera implementación\n",
    "> a=[1,1,3,4,4,9]\n",
    "> \n",
    "> aa=[]\n",
    "> for aaa in a: \n",
    ">   if aaa not in aa: aa.append(aaa) \n",
    ">   else: a=  a\n",
    ">\n",
    "> a=0\n",
    "> for bb in aa: a=a+1\n",
    "> print(a)\n",
    "```\n",
    "\n",
    "```python\n",
    "> # Segunda implementación\n",
    "> # input list given in the problem description\n",
    "> input_list = [1, 1, 3, 4, 4, 9]\n",
    "> \n",
    "> # auxiliary list for storing different values\n",
    "> aux_list = []\n",
    "> \n",
    "> # iterate over the input list\n",
    "> for value in input_list:\n",
    "> \n",
    ">     # if the element is new, add it to the aux_list\n",
    ">     if value not in aux_list: \n",
    ">         aux_list.append(value)\n",
    ">\n",
    "> # print results\n",
    "> print(“Different elements:”, len(aux_list))\n",
    "```"
   ]
  },
  {
   "cell_type": "code",
   "execution_count": null,
   "metadata": {},
   "outputs": [],
   "source": [
    "#Sol Ej 10\n",
    "\"\"\"\n",
    "1. El primer código no incluye comentarios que guíen al lector sobre cómo está programado\n",
    "2. \n",
    "3. \n",
    "4. \n",
    "5. \n",
    "6. \n",
    "7. \n",
    "\"\"\""
   ]
  },
  {
   "cell_type": "markdown",
   "metadata": {},
   "source": [
    "11. Considera el siguiente código\n",
    "```python\n",
    "def f(s, d):     \n",
    "    for k in d.keys():\n",
    "        d[k] = 0\n",
    "    for c in s:\n",
    "        if c in d:\n",
    "            d[c] += 1\n",
    "        else:\n",
    "            d[c] = 0\n",
    "    return d \n",
    "\n",
    "def addUp(d):\n",
    "    result = 0\n",
    "    for k in d:\n",
    "        result += d[k]\n",
    "    return result \n",
    "\n",
    "d1 = {}\n",
    "d2 = d1\n",
    "d1 = f('abbc', d1)\n",
    "print(addUp(d1))\n",
    "d2 = f('bbcaa', d2)\n",
    "print(addUp(d2))\n",
    "print(f('', {}))\n",
    "print(result)\n",
    "```\n",
    "- ¿Qué imprimirá por pantalla?\n",
    "- ¿Terminará normalmente? ¿Por qué o por qué no?"
   ]
  },
  {
   "cell_type": "code",
   "execution_count": null,
   "metadata": {},
   "outputs": [],
   "source": [
    "#Sol Ej 11"
   ]
  },
  {
   "cell_type": "markdown",
   "metadata": {},
   "source": [
    "12. ¿Qué imprime el siguiente código?\n",
    "\n",
    "```python\n",
    "class Shape:\n",
    "    def __eq__(s1, s2):\n",
    "        return s1.area() == s2.area()\n",
    "    def __ge__(s1, s2):\n",
    "        return s1.area() >= s2.area()\n",
    "        \n",
    "class Square(Shape):\n",
    "    def __init__(self, h):\n",
    "        self.side = float(h)\n",
    "    def area(self):\n",
    "        return self.side**2\n",
    "    def __str__(self):\n",
    "        return 'Square with side ' + str(self.side)\n",
    "\n",
    "class Circle(Shape):\n",
    "    def __init__(self, radius):\n",
    "        self.radius = radius\n",
    "    def area(self):\n",
    "        return 3.14159*(self.radius**2)\n",
    "    def __str__(self):\n",
    "        return 'Circle with radius ' + str(self.radius)\n",
    "    \n",
    "def f(L):\n",
    "    if len(L) == 0: \n",
    "        return None\n",
    "    x = L[0]\n",
    "    for s in L:\n",
    "        if s >= x:\n",
    "            x = s\n",
    "    return x \n",
    "\n",
    "s = Square(4)\n",
    "print(s.area())\n",
    "L = []\n",
    "shapes = {0:Circle, 1: Square}\n",
    "for i in range(10):     \n",
    "    L.append(shapes[i%2](i))\n",
    "print(L[4])\n",
    "print(f(L))\n",
    "```"
   ]
  },
  {
   "cell_type": "code",
   "execution_count": null,
   "metadata": {},
   "outputs": [],
   "source": [
    "#Sol ej 12\n"
   ]
  },
  {
   "cell_type": "markdown",
   "metadata": {},
   "source": [
    "13. ¿Qué imprime el siguiente código?\n",
    "\n",
    "```python\n",
    "\n",
    "from abc import ABC\n",
    "\n",
    "class Shape(ABC):\n",
    "    def __eq__(s1, s2):\n",
    "        return s1.area() == s2.area()\n",
    "    def __lt__(s1, s2):\n",
    "        return s1.circum() < s2.circum()\n",
    "        \n",
    "class Rectangle(Shape):\n",
    "    def __init__(self, h, w):\n",
    "        self.height = float(h)\n",
    "        self.width = float(w)\n",
    "    def circum(self):\n",
    "        return 2*(self.height + self.width)\n",
    "    def __str__(self):\n",
    "        return 'Rectangle with area ' + str(self.height*self.width)\n",
    "\n",
    "class Square(Rectangle):\n",
    "    def __init__(self, s):\n",
    "        Rectangle.__init__(self, s, s)\n",
    "    def __str__(self):\n",
    "        return 'Square with side ' + str(self.height)\n",
    "\n",
    "class Circle(Shape):\n",
    "    def __init__(self, radius):\n",
    "        self.radius = float(radius)\n",
    "    def circum(self):\n",
    "        return 3.14159*(2*self.radius)\n",
    "    def __lt__(self, other):\n",
    "        return self.radius < other.radius\n",
    "    def __str__(self):         \n",
    "        return 'Circle with diameter ' + str(2.0*self.radius)\n",
    "\n",
    "def reorder(L):\n",
    "    for e in L:\n",
    "        if e < L[0]:\n",
    "            L[0] = e \n",
    "\n",
    "L = [Square(6), Rectangle(2, 3), Circle(1)]\n",
    "try:\n",
    "    reorder(L)\n",
    "    for e in L:\n",
    "        print(e) \n",
    "except:\n",
    "    for e in L:\n",
    "        print(e) \n",
    "```"
   ]
  },
  {
   "cell_type": "code",
   "execution_count": 18,
   "metadata": {},
   "outputs": [],
   "source": [
    "#Sol ej 13\n"
   ]
  },
  {
   "cell_type": "markdown",
   "metadata": {},
   "source": [
    "14. Programa una estructura computacional que capture el proceso reproductivo de algunos animales. En particular, se pretende tener en cuenta que los caracoles son hermafroditas: pueden producir tanto óvulos como espermatozoides. \n",
    "    \n",
    "Parte de una clase abstracta ```Animal```. Programa las subclases ```Perro```, ```Gato``` y ```Caracol```, con los métodos que consideres necesarios. En particular, sobrecarga el operador ```+``` para representar la reproducción. Ten en cuenta que dos instancias de una misma clase podrán reproducirse sólo si juntos tienen ambos sexos. Levanta una excepción en caso de reproducciones imposibles."
   ]
  },
  {
   "cell_type": "code",
   "execution_count": null,
   "metadata": {},
   "outputs": [],
   "source": [
    "#Sol ej 14\n"
   ]
  },
  {
   "cell_type": "markdown",
   "metadata": {},
   "source": [
    "15. Señala si son verdaderas o falsas las siguientes afirmaciones sobre OOP y abstracción:\n",
    " - **a.** Si se implementa un método no abstracto en una clase abstracta, cualquier subclase debe reimplementar dicho método. Si no, se producirá un error.\n",
    " - **b.** Si un determinado método espera como argumento una instancia de una clase abstracta, también es posible pasar una instancia de una subclase de ésta.\n",
    " - **c.** Cualquier subclase de una clase abstracta debe explícitamente implementar el constructor ```__init__()```.\n",
    " - **d.** En el constructor de una subclase se debe obligatoriamente llamar al constructor de la correspondiente superclase: ```super().__init__(...)```.\n",
    " - **e.** Una clase abstracta ```Abstract(ABC)``` contiene un método con el decorador ```@abstractmethod```. Por tanto, la línea ```a = Abstract()``` levantará una excepción."
   ]
  },
  {
   "cell_type": "code",
   "execution_count": null,
   "metadata": {},
   "outputs": [],
   "source": [
    "#Sol ej 15\n"
   ]
  },
  {
   "cell_type": "markdown",
   "metadata": {},
   "source": [
    "# Programación - Nivel avanzado"
   ]
  },
  {
   "cell_type": "markdown",
   "metadata": {},
   "source": [
    "16. Realiza el diseño de la estructura de código del juego de mesa llamado [No Thanks!](https://www.youtube.com/watch?v=Lw2ua5B0TTM). Utiliza OOP"
   ]
  },
  {
   "cell_type": "code",
   "execution_count": null,
   "metadata": {},
   "outputs": [],
   "source": [
    "#Sol ej 16"
   ]
  },
  {
   "cell_type": "markdown",
   "metadata": {},
   "source": [
    "17. En programación, hay un concepto similar al de abstracción llamado *structural typing*. En Python, se implementa a traves de lo que se llama \"Protocolo\". Busca información online sobre protocolos (por ejemplo, [aqui](https://www.pythontutorial.net/python-oop/python-protocol/)), y re-programa el código dado en el ejercicio 24 haciendo uso de ellos. Piensa en las diferencias prácticas de utilizar protocolos frente a clases abstractas. "
   ]
  },
  {
   "cell_type": "code",
   "execution_count": null,
   "metadata": {},
   "outputs": [],
   "source": [
    "#Sol ej 17"
   ]
  },
  {
   "cell_type": "markdown",
   "metadata": {},
   "source": [
    "18. En varios campos de la computación se requiere evaluar cuán diferentes son dos *strings*. Por ejemplo, parece lógico que las palabras *casa* y *caso* tengan una medida de disimilitud menor que las palabras *casa* y *elefante*. Hay varios métodos para evaluar esta distancia entre *strings*, pero probablemente el más conocido sea la [distancia Levenshtein](https://en.wikipedia.org/wiki/Levenshtein_distance), $d_L$. Al evaluar esta función en dos *strings* obtendremos un entero que indica el mínimo número de inserciones, eliminaciones o la sustituciones de caracteres que tenemos que hacer para pasar de una de las *strings* a la otra. Por ejemplo, $d_L(\\texttt{casa}, \\texttt{caso}) = 1$ (sustituir la primera \"a\" por una \"o\"), o $d_L(\\texttt{casa}, \\texttt{casta}) = 1$ (insertar una \"t\" después de la \"s\"). \n",
    "Programa una clase llamada \"ComparableStr\" en la que sobrecargues el operador \"%\" (```__mod__(self, other)```) para que devuelva la distancia Levenshtein. Hay varios algoritmos que implementan eficientemente esta distancia. Puedes hacer el tuyo propio (recomendable), o buscar inspiración online (por ejemplo, [aquí](https://medium.com/@diego.campos.sobrino/m%C3%A9tricas-de-similitud-para-cadenas-de-texto-parte-ii-m%C3%A9tricas-basadas-en-operaciones-de-edici%C3%B3n-af9c8aa71bdb)). No utilices librerías externas. "
   ]
  },
  {
   "cell_type": "code",
   "execution_count": null,
   "metadata": {},
   "outputs": [],
   "source": [
    "#Sol ej 18"
   ]
  },
  {
   "cell_type": "markdown",
   "metadata": {},
   "source": [
    "19. Diseña la estructura de código de un software que permita jugar a dos jugadores computacionales al juego de [Piedra, Papel, Tijera, Lagarto o Spock](https://bigbangtheory.fandom.com/es/wiki/Piedra,_Papel,_Tijera,_Lagarto_o_Spock) durante varias rondas. En particular, se debe permitir que cada jugador implemente su estrategia de forma autónoma. Una *estrategia* es un conjunto inequívoco de instrucciones para jugar ronda tras ronda."
   ]
  },
  {
   "cell_type": "code",
   "execution_count": null,
   "metadata": {},
   "outputs": [],
   "source": [
    "#Sol ej 19"
   ]
  },
  {
   "cell_type": "markdown",
   "metadata": {},
   "source": [
    "# Pensamiento algorítmico general"
   ]
  },
  {
   "cell_type": "markdown",
   "metadata": {},
   "source": [
    "20. Si listamos todos los números naturales por debajo de 10 que son múltiplos de 3 o 5, obtenemos 3, 5, 6 y 9. La suma de estos múltiplos es 23. Encuentra la suma de todos los múltiplos de 3 o 5 por debajo de 1000.\n"
   ]
  },
  {
   "cell_type": "code",
   "execution_count": null,
   "metadata": {},
   "outputs": [],
   "source": [
    "#Sol ej 20\n"
   ]
  },
  {
   "cell_type": "markdown",
   "metadata": {},
   "source": [
    "21. Cada nuevo término de la serie de Fibonacci se genera sumando los dos anteriores. Comenzando con 1 y 2, los primeros 10 términos son:\n",
    "\n",
    "<center>\n",
    "\n",
    "$$\n",
    "1,2,3,5,8,13,21,34,55,89,…\n",
    "$$\n",
    "\n",
    "</center>\n",
    "\n",
    "Encontrar la suma de los términos de la serie de Fibonacci que sean pares y que sean menores que cuatro millones.\n"
   ]
  },
  {
   "cell_type": "code",
   "execution_count": null,
   "metadata": {},
   "outputs": [],
   "source": [
    "#Sol ej 21\n"
   ]
  },
  {
   "cell_type": "markdown",
   "metadata": {},
   "source": [
    "22.\tLos factores primos de 13195 son 5, 7, 13 y 29. ¿Cuál es el factor primo más grande del número 600851475143?"
   ]
  },
  {
   "cell_type": "code",
   "execution_count": null,
   "metadata": {},
   "outputs": [],
   "source": [
    "#Sol ej 22\n"
   ]
  },
  {
   "cell_type": "markdown",
   "metadata": {},
   "source": [
    "23. Un número *palindrómico* se lee igual en ambos sentidos. El palíndromo más grande formado al multiplicar dos números de dos dígitos es 9009 = 91 × 99.Encuentra el palíndromo más grande producto de dos números de 3 dígitos."
   ]
  },
  {
   "cell_type": "code",
   "execution_count": null,
   "metadata": {},
   "outputs": [],
   "source": [
    "#Sol ej 23\n"
   ]
  },
  {
   "cell_type": "markdown",
   "metadata": {},
   "source": [
    "24. La suma de los cuadrados de los primeros diez números naturales es\n",
    "<center>\n",
    "\n",
    "$$\n",
    "1^2+2^2+...+10^2=385\n",
    "$$\n",
    "</center>\n",
    "El cuadrado de la suma de los primeros diez números naturales es\n",
    "<center>\n",
    "\n",
    "$$\n",
    "(1+2+⋯+10)^2=55^2=3025\n",
    "$$\n",
    "</center>\n",
    "\n",
    "Por tanto, la diferencia entre la suma de los cuadrados de los diez primeros números naturales y el cuadrado de su suma es $3025-385=2640$.\n",
    "\n",
    "Encuentra la diferencia entre la suma de los cuadrados de los primeros cien números naturales y el cuadrado de su suma.\n"
   ]
  },
  {
   "cell_type": "code",
   "execution_count": null,
   "metadata": {},
   "outputs": [],
   "source": [
    "#Sol ej 24\n"
   ]
  },
  {
   "cell_type": "markdown",
   "metadata": {},
   "source": [
    "25. Al enumerar los seis primeros números primos: $2, 3, 5, 7, 11, 13$, podemos ver que el sexto primo es el $13$. ¿Cuál es el número primo en la posición $10001$?"
   ]
  },
  {
   "cell_type": "code",
   "execution_count": null,
   "metadata": {},
   "outputs": [],
   "source": [
    "#Sol ej 25\n"
   ]
  },
  {
   "cell_type": "markdown",
   "metadata": {},
   "source": [
    "26. Una terna pitagórica es un conjunto de tres números naturales, $a < b < c$, para los cuales,\n",
    "<center>\n",
    "\n",
    "$$\n",
    "a^2+b^2=c^2\n",
    "$$\n",
    "</center>\n",
    "\n",
    "Por ejemplo, $3^2+4^2=9+16=25=5^2$.\n",
    "\n",
    "Existe exactamente una terna pitagórica para la cual $a+b+c=1000$. Encuentra el producto $abc$.\n"
   ]
  },
  {
   "cell_type": "code",
   "execution_count": null,
   "metadata": {},
   "outputs": [],
   "source": [
    "#Sol ej 26\n"
   ]
  },
  {
   "cell_type": "markdown",
   "metadata": {},
   "source": [
    "27. La suma de los primos por debajo de $10$ es $2+3+5+7=17$. Encuentra la suma de todos los primos por debajo de dos millones."
   ]
  },
  {
   "cell_type": "code",
   "execution_count": null,
   "metadata": {},
   "outputs": [],
   "source": [
    "#Sol ej 27\n"
   ]
  },
  {
   "cell_type": "markdown",
   "metadata": {},
   "source": [
    "28. La serie de números triangulares se genera sumando los números naturales. Así, el 7º número de triangular es 1 + 2 + 3 + 4 + 5 + 6 + 7 = 28. Los primeros diez términos son:\n",
    "<center>\n",
    "\n",
    "$$\n",
    "1,3,6,10,15,21,28,36,45,55,\\dots\n",
    "$$\n",
    "</center>\n",
    "\n",
    "Enumerando los divisores de los primeros siete números de triangulares tenemos:\n",
    "- 1 → 1\n",
    "- 3 → 1, 3\n",
    "- 6 → 1, 2, 3, 6\n",
    "- 10 → 1, 2, 5, 10\n",
    "- 15 → 1, 3, 5, 15\n",
    "- 21 → 1, 3, 7, 21\n",
    "- 28 → 1, 2, 4, 7, 14, 28\n",
    "\n",
    "Podemos ver que el 28 es el primer número de triangular que tiene más de cinco divisores. ¿Cuál es el valor del primer número triangular que tiene más de quinientos divisores?\n"
   ]
  },
  {
   "cell_type": "code",
   "execution_count": null,
   "metadata": {},
   "outputs": [],
   "source": [
    "#Sol ej 28\n"
   ]
  },
  {
   "cell_type": "markdown",
   "metadata": {},
   "source": [
    "29. El siguiente número tiene 1000 dígitos:"
   ]
  },
  {
   "cell_type": "code",
   "execution_count": null,
   "metadata": {},
   "outputs": [],
   "source": [
    "big_num_str = \"7316717653133062491922511967442657474235534919493496983520312774506326239578318016984801869478851843858615607891129494954595017379583319528532088055111254069874715852386305071569329096329522744304355766896648950445244523161731856403098711121722383113622298934233803081353362766142828064444866452387493035890729629049156044077239071381051585930796086670172427121883998797908792274921901699720888093776657273330010533678812202354218097512545405947522435258490771167055601360483958644670632441572215539753697817977846174064955149290862569321978468622482839722413756570560574902614079729686524145351004748216637048440319989000889524345065854122758866688116427171479924442928230863465674813919123162824586178664583591245665294765456828489128831426076900422421902267105562632111110937054421750694165896040807198403850962455444362981230987879927244284909188845801561660979191338754992005240636899125607176060588611646710940507754100225698315520005593572972571636269561882670428252483600823257530420752963450\""
   ]
  },
  {
   "cell_type": "markdown",
   "metadata": {},
   "source": [
    "En dicho número, los cuatro dígitos adyacentes que tienen el mayor producto son $9×9×8×9=5832$. Encuentra los trece dígitos adyacentes que tienen el mayor producto. ¿Cuál es el valor de este producto?"
   ]
  },
  {
   "cell_type": "code",
   "execution_count": null,
   "metadata": {},
   "outputs": [],
   "source": [
    "#Sol ej 29\n"
   ]
  },
  {
   "cell_type": "markdown",
   "metadata": {},
   "source": [
    "30. La sucesión está definida para el conjunto de enteros positivos:\n",
    "\n",
    "<center>\n",
    "\n",
    "$$\n",
    "x_{n+1} = \\left\\{\n",
    "\\begin{array}{ll}\n",
    "      x_n / 2 & \\textrm{si } x_n \\textrm{ es par} \\\\\n",
    "      3x_n + 1 & \\textrm{si } x_n \\textrm{ es impar} \\\\\n",
    "\\end{array} \n",
    "\\right.\n",
    "$$\n",
    "</center>\n",
    "\n",
    "Por ejemplo, con la regla anterior y comenzando en 13, generaríamos la siguiente secuencia:\n",
    "<center>\n",
    "\n",
    "$$\n",
    "13 → 40 → 20 → 10 → 5 → 16 → 8 → 4 → 2 → 1\n",
    "$$\n",
    "</center>\n",
    "Se puede ver que esta secuencia (que empieza en 13 y termina en 1) contiene 10 términos. Aunque aún no se ha demostrado (Conjetura de Collatz), se cree que siempre se llega a 1, independientemente del número de partida.\n",
    "\n",
    "¿Qué número de partida, por debajo de un millón, produce la secuancia más larga?\n",
    "\n",
    "NOTA: Una vez iniciada la secuencia, sí que se permite que los términos sean superiores a un millón."
   ]
  },
  {
   "cell_type": "code",
   "execution_count": 20,
   "metadata": {},
   "outputs": [],
   "source": [
    "#Sol ej 30\n"
   ]
  },
  {
   "cell_type": "markdown",
   "metadata": {},
   "source": [
    "31. Definamos $d(n)$ como la suma de los divisores propios de $n$ (números menores que $n$ que dividen exactamente a $n$).\n",
    "Si $d(a) = b$ y $d(b) = a$, donde $a ≠ b$, entonces $a$ y $b$ son un par *amigable* y $a$ y $b$ se llaman números *amigos*. Por ejemplo, los divisores propios de $220$ son $1, 2, 4, 5, 10, 11, 20, 22, 44, 55$ y $110$; por tanto, $d(220) = 284$. Los divisores propios de $284$ son $1, 2, 4, 71$ y $142$; por tanto, $d(284) = 220$. Evaluar la suma de todos los números amigables menores de $10000$."
   ]
  },
  {
   "cell_type": "code",
   "execution_count": null,
   "metadata": {},
   "outputs": [],
   "source": [
    "#Sol ej 31\n"
   ]
  },
  {
   "cell_type": "markdown",
   "metadata": {},
   "source": [
    "32.  En la Unión Europea, hay ocho monedas en circulación: 1c, 2c, 5c, 10c, 20c, 50c, 1€ (100c) y 2€ (200c). Es posible sumar 2€ de la siguiente manera: $1×1€ + 1×50c + 2×20c + 1×5c + 1×2c + 3×1c$. ¿De cuántas formas diferentes se puede sumar 2€ utilizando cualquier número de monedas?"
   ]
  },
  {
   "cell_type": "code",
   "execution_count": null,
   "metadata": {},
   "outputs": [],
   "source": [
    "#Sol ej 32\n"
   ]
  },
  {
   "cell_type": "markdown",
   "metadata": {},
   "source": [
    "33. Empezando en la esquina superior izquierda de una cuadrícula de 2×2, y pudiendo moverse sólo hacia la derecha y hacia abajo, hay exactamente 6 rutas hasta la esquina inferior a la derecha.\n",
    "<center>\n",
    "\n",
    "<img src=\"https://projecteuler.net/project/images/p015.png\" width=\"300\">\n",
    "\n",
    "</center>\n",
    "\n",
    "¿Cuántas rutas de este tipo hay en una cuadrícula de 20×20?"
   ]
  },
  {
   "cell_type": "code",
   "execution_count": null,
   "metadata": {},
   "outputs": [],
   "source": [
    "#Sol ej 33\n"
   ]
  },
  {
   "cell_type": "markdown",
   "metadata": {},
   "source": [
    "34. Dado un número de pares de paréntesis (), se pueden formar una cierta cantidad\n",
    "de combinaciones válidas desde el punto de vista lingüístico o matemático. \n",
    "Por ejemplo, con 3 pares de paréntesis ()()(), hay 5 posibles combinaciones \n",
    "válidas: ()()(), (())(), ((())), y (()()). Calcula el número de combinaciones válidas que pueden formarse con 12 pares de paréntesis"
   ]
  },
  {
   "cell_type": "code",
   "execution_count": null,
   "metadata": {},
   "outputs": [],
   "source": [
    "#Sol ej 34\n"
   ]
  }
 ],
 "metadata": {
  "kernelspec": {
   "display_name": "Python 3.10.5 ('.venv': venv)",
   "language": "python",
   "name": "python3"
  },
  "language_info": {
   "codemirror_mode": {
    "name": "ipython",
    "version": 3
   },
   "file_extension": ".py",
   "mimetype": "text/x-python",
   "name": "python",
   "nbconvert_exporter": "python",
   "pygments_lexer": "ipython3",
   "version": "3.10.5"
  },
  "orig_nbformat": 4,
  "vscode": {
   "interpreter": {
    "hash": "1beef6bdf7cb3edc825034b485381c9781f3bd7bbda8256bc912318d884443a5"
   }
  }
 },
 "nbformat": 4,
 "nbformat_minor": 2
}
