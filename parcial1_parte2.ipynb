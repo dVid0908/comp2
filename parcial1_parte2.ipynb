{
 "cells": [
  {
   "cell_type": "markdown",
   "metadata": {},
   "source": [
    "# Primer parcial - Algorítmica numérica"
   ]
  },
  {
   "cell_type": "markdown",
   "metadata": {},
   "source": [
    "## Segunda Parte: **Preguntas de desarrollo** - con apuntes, 60min, total 5 puntos"
   ]
  },
  {
   "cell_type": "markdown",
   "metadata": {},
   "source": [
    "## Ejercicio 1 (2.5 puntos)\n",
    "\n",
    "Dado un número natural $n$, se pretende encontrar el mayor producto de dos números primos consecutivos que sea igual o inferior a dicho $n$. Llamaremos a este producto $p$.\n",
    "\n",
    "Considera por ejemplo $n=95$. El listado de los primeros primos es:\n",
    "\n",
    "$$\n",
    "2, 3, 5, 7, 11, 13, 17, \\dots\n",
    "$$\n",
    "\n",
    "El mayor producto de dos de estos primos consecutivos que está por debajo de $n=95$ es el producto de $7$ y $11$, ya que $11$ multiplicado por $13$ ya supera $n$. Luego para $n=95$, $p$ vale $77$.\n",
    "\n",
    "Programa una función ```prime_couple(n: int) -> int``` que calcule $p$ a partir de $n$. **Explica en texto todas las decisiones que tomes sobre el diseño del algoritmo**. \n",
    "\n",
    "Considera los siguientes resultados para tus pruebas:\n",
    " - $n = 2021 \\, \\to \\, p=2021$ (es exactamente el producto de los números primos consecutivos $43$ y $47$)\n",
    " - $n = 2020 \\, \\to \\, p=1763$ (porque el producto de 41 y 43 es 1763 que es menor que 2020, pero el producto de 43 y 47 ya supera el valor dado de 2020).\n",
    "\n",
    "-----------------\n",
    "\n",
    "<p style=\" font-size:11pt; font-style:italic\">\n",
    "El ejercicio se evaluará mediante 3 tests, que dependen del orden de magnitud de n:\n",
    "</p>\n",
    "<p style=\" font-size:11pt; font-style:italic\"> - Test 1: el programa funcionará correctamente devolviendo los resultados en un tiempo razonable (menos de ~20s) para n <= 2021.</p>\n",
    "<p style=\" font-size:11pt; font-style:italic\"> - Test 2: el programa funcionará correctamente devolviendo los resultados en un tiempo razonable (menos de ~20s) para n <= 10^8.</p>\n",
    "<p style=\" font-size:11pt; font-style:italic\"> - Test 3: el programa funcionará correctamente devolviendo los resultados en un tiempo razonable (menos de ~20s) para n <= 10^16.</p>\n",
    "\n"
   ]
  },
  {
   "cell_type": "markdown",
   "metadata": {},
   "source": [
    "## Ejercicio 2 (2.5 puntos)\n",
    "\n",
    " - **(a) [0.3 puntos] -** ¿Qué problema se presenta al usar ciertas fórmulas de diferencias finitas (DF) en los extremos de la malla?"
   ]
  },
  {
   "cell_type": "markdown",
   "metadata": {},
   "source": [
    "\n",
    "Para solucionar el problema anterior, un método que suele utilizarse es el uso de lo que se conoce como \"nodos fantasma\" (*ghost nodes*). Son nodos ficticios fuera del domino, que pretenden permitir la evaluación de las fórmulas de DF en los nodos extremos. Dada una malla ```x```, si se tuviese algún nodo a la izquierda del limite inferior de la malla ($x_0$) y a la derecha del límite superior ($x_n$), se podrían evaluar las fórmulas de diferencias finitas en toda ```x``` sin preocupación y sin tener que particularizar la fórmula de DF allí.\n",
    "\n",
    "Para calcular el valor que la función tendría en dichos nodos fantasma, se interpola, como se muestra en la siguiente imagen.\n",
    "\n",
    "<center>\n",
    "\n",
    "<div>\n",
    "<img src=\"https://drive.upm.es/index.php/apps/files_sharing/ajax/publicpreview.php?x=1920&y=393&a=true&file=parcial1-parte2-ej2.png&t=lMzyizuhWYbOmMZ&scalingup=0\" width=\"340\"/>\n",
    "</div>\n",
    "\n",
    "</center>\n",
    "\n",
    "\n",
    "Considera una función $f(x)$ definida en un conjunto de puntos discretos en [0, 1] espaciados un paso $h = 0.1$.\n",
    "\n",
    "<center>\n",
    "\n",
    "| **$x$** | 0.00 | 0.10 | 0.20 | 0.30 | 0.40 | 0.50 | 0.60 | 0.70 | 0.80 | 0.90 | 1.00 |\n",
    "|---------|------|------|------|------|------|------|------|------|------|------|------|\n",
    "|**$f(x)$**| 1.00 | 1.07 | 1.09 | 1.06 | 0.98 | 0.88 | 0.74 | 0.57 | 0.39 | 0.20 | 0.00 |\n",
    "\n",
    "</center>\n",
    " \n",
    " Los valores de esta tabla están almacenados en las siguientes dos listas:"
   ]
  },
  {
   "cell_type": "code",
   "execution_count": 1,
   "metadata": {},
   "outputs": [],
   "source": [
    "x = [0.00, 0.10, 0.20, 0.30, 0.40, 0.50, 0.60, 0.70, 0.80, 0.90, 1.00]\n",
    "y = [1.00, 1.07, 1.09, 1.06, 0.98, 0.88, 0.74, 0.57, 0.39, 0.20, 0.00]"
   ]
  },
  {
   "cell_type": "markdown",
   "metadata": {},
   "source": [
    " - **(b) [0.3 puntos] -** Define una lista ```x_with_ghost_nodes``` que represente la malla. Dicha malla debe incluir un nodo fantasma en cada extremo del dominio $[0, 1]$. Por tanto, ten en cuenta que el nodo con índice $0$ ahora no será el nodo correspondiente al primer punto del dominio $[0, 1]$ ($x=0$), sino un nodo más a su izquierda."
   ]
  },
  {
   "cell_type": "markdown",
   "metadata": {},
   "source": [
    " - **(c) [0.5 puntos] -** Implementa la siguiente función ```get_ghost_node_value(x0, x1, y0, y1, x_ghost)``` que, dados dos abscisas ```x0``` y ```x1``` y sus correspondientes valores de la función ```y0``` e ```y1```, devuelva el valor de la función en ```x_ghost``` (la abscisa del nodo fantasma). Utiliza interpolación lineal."
   ]
  },
  {
   "cell_type": "code",
   "execution_count": null,
   "metadata": {},
   "outputs": [],
   "source": [
    "def get_ghost_node_value(x0: float, x1: float, y0: float, y1: float, x_ghost: float) -> float:\n",
    "    raise NotImplementedError"
   ]
  },
  {
   "cell_type": "markdown",
   "metadata": {},
   "source": [
    " - **(d) [0.3 puntos] -** Utiliza la función anterior junto con los valores de $f(x)$ para crear una lista ```y_with_ghost_nodes``` que contenga los valores que se utilizarán para evaluar la fórmula de diferencias finitas en el siguiente apartado."
   ]
  },
  {
   "cell_type": "markdown",
   "metadata": {},
   "source": [
    "\n",
    " - **(e) [0.3 puntos] -** Calcula ```y_prime```, una nueva lista que contenga los valores de la derivada de $f(x)$ en $[0, 1]$. Utiliza DF centradas de segundo orden para calcularla. Presta atención a la dimensión de esta nueva lista, que ya no será la misma que la de ```x_with_ghost_nodes``` e ```y_with_ghost_nodes```."
   ]
  },
  {
   "cell_type": "markdown",
   "metadata": {},
   "source": [
    "\n",
    "A partir de este punto, nos centraremos en la discusión de lo que ocurre en $x=0$, sin considerar el resto del dominio.\n",
    "\n",
    " - **(f) [0.3 puntos] -** El valor exacto de $f'(0)$ es $1$. Calcula el error cometido al usar el método empleado anteriormente, y compáralo con el que se obtendría al utilizar en $x=0$ la fórmula de DF adelantadas de segundo orden."
   ]
  },
  {
   "cell_type": "markdown",
   "metadata": {},
   "source": [
    "\n",
    " - **(g) [0.5 puntos] -** Considera la siguiente función:"
   ]
  },
  {
   "cell_type": "code",
   "execution_count": 2,
   "metadata": {},
   "outputs": [],
   "source": [
    "def get_ghost_node_value_improved(x0: float, x1: float, y0: float, y1: float, x_ghost: float, alpha: float):\n",
    "    return alpha * get_ghost_node_value(x0, x1, y0, y1, x_ghost)"
   ]
  },
  {
   "cell_type": "markdown",
   "metadata": {},
   "source": [
    "que es análoga a ```get_ghost_node_value()```, pero que permite modificar la interpolación en los nodos fantasma por medio de un factor ```alpha```. Utiliza ahora esta función para calcular el valor de $f(x)$ en los nodos fantasma, variando alpha en el intervalo $[0.5, 1.5]$ con el objetivo de reducir al mínimo el error relativo cometido en $f'(0)$. ¿Qué valor de ```alpha``` consigue ese mínimo error?"
   ]
  }
 ],
 "metadata": {
  "kernelspec": {
   "display_name": "Python 3.10.5 ('.venv': venv)",
   "language": "python",
   "name": "python3"
  },
  "language_info": {
   "codemirror_mode": {
    "name": "ipython",
    "version": 3
   },
   "file_extension": ".py",
   "mimetype": "text/x-python",
   "name": "python",
   "nbconvert_exporter": "python",
   "pygments_lexer": "ipython3",
   "version": "3.10.5"
  },
  "orig_nbformat": 4,
  "vscode": {
   "interpreter": {
    "hash": "1beef6bdf7cb3edc825034b485381c9781f3bd7bbda8256bc912318d884443a5"
   }
  }
 },
 "nbformat": 4,
 "nbformat_minor": 2
}
